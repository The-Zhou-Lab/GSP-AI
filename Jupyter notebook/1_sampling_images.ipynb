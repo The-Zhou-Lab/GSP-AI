{
 "cells": [
  {
   "cell_type": "code",
   "execution_count": null,
   "metadata": {},
   "outputs": [],
   "source": [
    "import cv2\n",
    "import matplotlib.pyplot as plt\n",
    "import os\n",
    "from skimage import io,transform\n",
    "\n",
    "\n",
    "path_all = r\"E:\\20-21_UAV_image\\WGSD\"\n",
    "path_save_all = r\"E:\\20-21_UAV_image\\WGSD\\test_save\"\n",
    "\n",
    "def M_center_CN(img):\n",
    "    x_size = img.shape[0]  \n",
    "    y_size = img.shape[1]\n",
    "    b_size = int(x_size/10)\n",
    "    print(\"size_x: %s. size_y:%s.\" % (x_size, y_size))\n",
    "    if x_size < y_size:\n",
    "        x_cent = int(x_size/2)\n",
    "        y_cent = int(y_size/2)\n",
    "        M_2 = img[0+b_size:x_size-b_size,(y_cent-int(x_size/2)+b_size):(y_cent+int(x_size/2)-b_size)]\n",
    "    if x_size > y_size:\n",
    "        x_cent = int(x_size/2)\n",
    "        y_cent = int(y_size/2)\n",
    "        b_size = int(y_size/10)\n",
    "        M_2 = img[x_cent-int(y_size/2)+b_size:x_cent+int(y_size/2)-b_size,0+b_size:y_size-b_size]\n",
    "    return M_2\n",
    "# new_img = M_center_case(img)\n",
    "# io.imshow(new_img)\n",
    "# n = 40 # 一次展现25个小区图片\n",
    "for date in os.listdir(path_all):\n",
    "    date_img_list = []\n",
    "    new_d = date\n",
    "    path_2 = os.path.join(path_all,new_d)\n",
    "    path_save_2 = os.path.join(path_save_all,date)\n",
    "    if not os.path.exists(path_save_2):\n",
    "        os.makedirs(path_save_2)\n",
    "    print(path_2)\n",
    "    key = 0\n",
    "    for img_name in os.listdir(path_2):\n",
    "        new_img = os.path.join(path_2,img_name)\n",
    "        img = io.imread(new_img)\n",
    "        M_img = M_center_CN(img)\n",
    "        path_save_3 =os.path.join(path_save_2,img_name) \n",
    "        io.imsave(path_save_3,M_img)"
   ]
  }
 ],
 "metadata": {
  "kernelspec": {
   "display_name": "Python 3",
   "language": "python",
   "name": "python3"
  },
  "language_info": {
   "codemirror_mode": {
    "name": "ipython",
    "version": 3
   },
   "file_extension": ".py",
   "mimetype": "text/x-python",
   "name": "python",
   "nbconvert_exporter": "python",
   "pygments_lexer": "ipython3",
   "version": "3.7.0"
  }
 },
 "nbformat": 4,
 "nbformat_minor": 4
}
